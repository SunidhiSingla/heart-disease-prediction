{
  "nbformat": 4,
  "nbformat_minor": 0,
  "metadata": {
    "kernelspec": {
      "display_name": "Python 3",
      "language": "python",
      "name": "python3"
    },
    "language_info": {
      "codemirror_mode": {
        "name": "ipython",
        "version": 3
      },
      "file_extension": ".py",
      "mimetype": "text/x-python",
      "name": "python",
      "nbconvert_exporter": "python",
      "pygments_lexer": "ipython3",
      "version": "3.7.3"
    },
    "colab": {
      "name": "1_Problem_Statement.ipynb",
      "provenance": [],
      "collapsed_sections": []
    }
  },
  "cells": [
    {
      "cell_type": "markdown",
      "metadata": {
        "id": "9YHTjt_murCh"
      },
      "source": [
        "<h1 style=\"color:blue\" align=\"center\"> Support Vector Machines </h1>"
      ]
    },
    {
      "cell_type": "markdown",
      "metadata": {
        "id": "MHOSCac2urCn"
      },
      "source": [
        "### Steps\n",
        "\n",
        "\n",
        "-  1: Import the modules that will do all the work\n",
        "\n",
        "\n",
        "-  2: Import the data\n",
        "\n",
        "\n",
        "-  3: Missing Data Part 1: Identifying Missing Data\n",
        "\n",
        "\n",
        "-                  Part 2: Dealing With Missing Data\n",
        "\n",
        "\n",
        "- 4: Format Data Part 1: Split the Data into Dependent and Independent Variables\n",
        "\n",
        "\n",
        "-                 Part 2: One-Hot Encoding\n",
        "\n",
        "\n",
        "- 5: Scaling\n",
        "\n",
        "\n",
        "- 6: Build A Preliminary Support Vector Machine\n",
        "\n",
        "\n",
        "- 7: Optimize Parameters with Cross Validation\n",
        "\n",
        "\n",
        "- 8: Building, Evaluating, Drawing, and Interpreting the Final Support Vector Machine"
      ]
    }
  ]
}